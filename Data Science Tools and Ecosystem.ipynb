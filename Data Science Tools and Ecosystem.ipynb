{
 "cells": [
  {
   "cell_type": "markdown",
   "id": "03aefa86-048f-40c9-bd42-a47bcdb97220",
   "metadata": {},
   "source": [
    "# Data Science Tools and Ecosystem"
   ]
  },
  {
   "cell_type": "markdown",
   "id": "aad2a366-a3d9-473d-a737-b76e1ff66bf4",
   "metadata": {},
   "source": [
    "### Exercise 3 – Markdown: Introduction\n",
    "In this notebook, we will summarize some of the essential tools, libraries, and languages used in the field of Data Science.\n"
   ]
  },
  {
   "cell_type": "markdown",
   "id": "97ab76b4-a023-48c5-aa36-bdbad5139b2e",
   "metadata": {},
   "source": [
    "### Exercise 4 – Markdown: Data Science Languages\n",
    "\n",
    "### Some of the popular languages that Data Scientists use are:\n",
    "\n",
    "1. Python  \n",
    "2. R  \n",
    "3. SQL  \n",
    "4. Julia  \n",
    "5. Scala"
   ]
  },
  {
   "cell_type": "markdown",
   "id": "9e6eeee1-5edf-4702-9f47-ede6e01b88e9",
   "metadata": {},
   "source": [
    "### Exercise 5 – Markdown: Data Science Libraries\n",
    "\n",
    "### Some of the commonly used libraries by Data Scientists include:\n",
    "\n",
    "- Pandas  \n",
    "- NumPy  \n",
    "- Matplotlib  \n",
    "- Scikit-learn  \n",
    "- TensorFlow  \n",
    "- ggplot2  \n",
    "- dplyr"
   ]
  },
  {
   "cell_type": "markdown",
   "id": "dac53f5f-fdfe-4c97-807f-c8771d6a5ded",
   "metadata": {},
   "source": [
    "### Exercise 6 – Markdown: Table of Tools\n",
    "\n",
    "### Data Science Tools\n",
    "\n",
    "| Tool             | Description                       |\n",
    "|------------------|-----------------------------------|\n",
    "| Jupyter Notebook | Interactive coding environment    |\n",
    "| RStudio          | IDE for R                         |\n",
    "| VSCode           | Lightweight code editor           |\n",
    "| Apache Spark     | Big data processing framework     |\n",
    "| Tableau          | Data visualization software       |\n"
   ]
  },
  {
   "cell_type": "markdown",
   "id": "c39ac613-aeae-432b-95fb-4ecd3be91ab3",
   "metadata": {},
   "source": [
    "### Exercise 7 – Markdown: Arithmetic Expressions\n",
    "\n",
    "### Below are a few examples of evaluating arithmetic expressions in Python.\n",
    "This Markdown cell briefly introduces arithmetic expressions in Python. It explains that arithmetic operations like addition, subtraction, multiplication, and division are fundamental to numerical computation in data science."
   ]
  },
  {
   "cell_type": "markdown",
   "id": "f76e3a1b-fab1-44b5-995c-925c944f2a02",
   "metadata": {},
   "source": [
    "### Exercise 8 – Code Cell: Multiply and Add"
   ]
  },
  {
   "cell_type": "markdown",
   "id": "fce2ce31-2ddf-4473-a5c8-cd739eac1f5b",
   "metadata": {},
   "source": [
    "# This expression multiplies 3 by 4 and then adds 5\n",
    "(3 * 4) + 5"
   ]
  },
  {
   "cell_type": "markdown",
   "id": "eb5bcc43-fed1-42ed-966c-13dabb0cc0bb",
   "metadata": {},
   "source": [
    "### Exercise 9 – Code Cell: Minutes to Hours"
   ]
  },
  {
   "cell_type": "code",
   "execution_count": 14,
   "id": "97b4983c-2926-4d47-b18d-26ccce6884c6",
   "metadata": {},
   "outputs": [
    {
     "data": {
      "text/plain": [
       "3.3333333333333335"
      ]
     },
     "execution_count": 14,
     "metadata": {},
     "output_type": "execute_result"
    }
   ],
   "source": [
    "# This will convert 200 minutes to hours by dividing by 60\n",
    "200 / 60"
   ]
  },
  {
   "cell_type": "markdown",
   "id": "7c2c48d0-7a47-45be-a549-1cc2d3288943",
   "metadata": {},
   "source": [
    "### Exercise 10 – Markdown: Objectives\n",
    "\n",
    "### Objectives:\n",
    "\n",
    "- List popular languages for Data Science  \n",
    "- List commonly used libraries  \n",
    "- Create tables in markdown  \n",
    "- Perform basic arithmetic using Python  \n",
    "- Use Jupyter Notebooks effectively  \n"
   ]
  },
  {
   "cell_type": "markdown",
   "id": "426d8a29-22c7-4354-bfcb-9d95df289c3c",
   "metadata": {},
   "source": [
    "### Exercise 11 – Markdown: Author Name\n",
    "\n",
    "**Author:** José Marcos Pérez Maravilla"
   ]
  },
  {
   "cell_type": "code",
   "execution_count": null,
   "id": "3ba277b9-6123-4905-ba62-c18653150125",
   "metadata": {},
   "outputs": [],
   "source": []
  }
 ],
 "metadata": {
  "kernelspec": {
   "display_name": "Python [conda env:base] *",
   "language": "python",
   "name": "conda-base-py"
  },
  "language_info": {
   "codemirror_mode": {
    "name": "ipython",
    "version": 3
   },
   "file_extension": ".py",
   "mimetype": "text/x-python",
   "name": "python",
   "nbconvert_exporter": "python",
   "pygments_lexer": "ipython3",
   "version": "3.12.7"
  }
 },
 "nbformat": 4,
 "nbformat_minor": 5
}
